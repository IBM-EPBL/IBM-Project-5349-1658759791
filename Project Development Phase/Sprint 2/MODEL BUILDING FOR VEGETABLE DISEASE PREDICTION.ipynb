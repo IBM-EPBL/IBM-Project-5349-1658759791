{
  "nbformat": 4,
  "nbformat_minor": 0,
  "metadata": {
    "colab": {
      "provenance": [],
      "collapsed_sections": []
    },
    "kernelspec": {
      "name": "python3",
      "display_name": "Python 3"
    },
    "language_info": {
      "name": "python"
    }
  },
  "cells": [
    {
      "cell_type": "markdown",
      "source": [
        "## SPRINT 2 - TEAM ID : PNT2022TMID00681"
      ],
      "metadata": {
        "id": "2nyOtiqWqOkL"
      }
    },
    {
      "cell_type": "markdown",
      "source": [
        "## MODEL BUILDING FOR VEGETABLE DISEASE PREDICTION"
      ],
      "metadata": {
        "id": "g3WAwXEhqU_f"
      }
    },
    {
      "cell_type": "markdown",
      "source": [
        "## Image Augumentation"
      ],
      "metadata": {
        "id": "NzZjW1G-qZcH"
      }
    },
    {
      "cell_type": "code",
      "execution_count": 1,
      "metadata": {
        "id": "h0Y8vzAnisx0"
      },
      "outputs": [],
      "source": [
        "from tensorflow.keras.preprocessing.image import ImageDataGenerator"
      ]
    },
    {
      "cell_type": "code",
      "source": [
        "train_datagen=ImageDataGenerator(rescale=1./255,zoom_range=0.2,horizontal_flip=True,vertical_flip=False)"
      ],
      "metadata": {
        "id": "8fzYJ8DVi_Xb"
      },
      "execution_count": 2,
      "outputs": []
    },
    {
      "cell_type": "code",
      "source": [
        "test_datagen=ImageDataGenerator(rescale=1./255)"
      ],
      "metadata": {
        "id": "hNvI5UtMjCRU"
      },
      "execution_count": 3,
      "outputs": []
    },
    {
      "cell_type": "code",
      "source": [
        "x_train=train_datagen.flow_from_directory(r\"/content/drive/MyDrive/Fertilizers_Recommendation_ System_For_Disease_ Prediction/Dataset Plant Disease/Veg-dataset/Veg-dataset/train_set\",target_size=(128,128),\n",
        "                                        class_mode='categorical',batch_size=24)"
      ],
      "metadata": {
        "colab": {
          "base_uri": "https://localhost:8080/"
        },
        "id": "dsAKqoQFjGu7",
        "outputId": "77627b1d-d8e2-43d2-b69f-bda64ee7e4b0"
      },
      "execution_count": 4,
      "outputs": [
        {
          "output_type": "stream",
          "name": "stdout",
          "text": [
            "Found 11386 images belonging to 9 classes.\n"
          ]
        }
      ]
    },
    {
      "cell_type": "code",
      "source": [
        "x_test=test_datagen.flow_from_directory(r'/content/drive/MyDrive/Fertilizers_Recommendation_ System_For_Disease_ Prediction/Dataset Plant Disease/Veg-dataset/Veg-dataset/test_set',target_size=(128,128),\n",
        "                                        class_mode='categorical',batch_size=24)"
      ],
      "metadata": {
        "colab": {
          "base_uri": "https://localhost:8080/"
        },
        "id": "JGcWAiuGjSAi",
        "outputId": "1a19c3b1-a14f-486f-9819-a02f96e5d6a6"
      },
      "execution_count": 5,
      "outputs": [
        {
          "output_type": "stream",
          "name": "stdout",
          "text": [
            "Found 3431 images belonging to 9 classes.\n"
          ]
        }
      ]
    },
    {
      "cell_type": "markdown",
      "source": [
        "## ADDING CNN"
      ],
      "metadata": {
        "id": "u1LE8FH7qgLz"
      }
    },
    {
      "cell_type": "code",
      "source": [
        "from tensorflow.keras.models import Sequential"
      ],
      "metadata": {
        "id": "REiiJfg2jhv3"
      },
      "execution_count": 6,
      "outputs": []
    },
    {
      "cell_type": "code",
      "source": [
        "from tensorflow.keras.layers import Dense,Convolution2D,MaxPooling2D,Flatten"
      ],
      "metadata": {
        "id": "gQRdAYf2joOV"
      },
      "execution_count": 7,
      "outputs": []
    },
    {
      "cell_type": "code",
      "source": [
        "model=Sequential()"
      ],
      "metadata": {
        "id": "G81Yi-m-jsJ_"
      },
      "execution_count": 8,
      "outputs": []
    },
    {
      "cell_type": "code",
      "source": [
        "model.add(Convolution2D(32,(3,3),input_shape=(128,128,3),activation='relu'))"
      ],
      "metadata": {
        "id": "qWJ8jgFPju5K"
      },
      "execution_count": 9,
      "outputs": []
    },
    {
      "cell_type": "code",
      "source": [
        "model.add(MaxPooling2D(pool_size=(2,2)))"
      ],
      "metadata": {
        "id": "cvL1AuJVjyN5"
      },
      "execution_count": 10,
      "outputs": []
    },
    {
      "cell_type": "code",
      "source": [
        "model.add(Flatten())"
      ],
      "metadata": {
        "id": "KCGGq46Sj1P_"
      },
      "execution_count": 11,
      "outputs": []
    },
    {
      "cell_type": "code",
      "source": [
        "model.summary()"
      ],
      "metadata": {
        "colab": {
          "base_uri": "https://localhost:8080/"
        },
        "id": "fS5gUFGoj2z6",
        "outputId": "fa6bb497-80eb-49ee-d2ed-2f668ae1a13c"
      },
      "execution_count": 12,
      "outputs": [
        {
          "output_type": "stream",
          "name": "stdout",
          "text": [
            "Model: \"sequential\"\n",
            "_________________________________________________________________\n",
            " Layer (type)                Output Shape              Param #   \n",
            "=================================================================\n",
            " conv2d (Conv2D)             (None, 126, 126, 32)      896       \n",
            "                                                                 \n",
            " max_pooling2d (MaxPooling2D  (None, 63, 63, 32)       0         \n",
            " )                                                               \n",
            "                                                                 \n",
            " flatten (Flatten)           (None, 127008)            0         \n",
            "                                                                 \n",
            "=================================================================\n",
            "Total params: 896\n",
            "Trainable params: 896\n",
            "Non-trainable params: 0\n",
            "_________________________________________________________________\n"
          ]
        }
      ]
    },
    {
      "cell_type": "markdown",
      "source": [
        "## HIDDEN LAYERS"
      ],
      "metadata": {
        "id": "yWeKzqoLqmK-"
      }
    },
    {
      "cell_type": "code",
      "source": [
        "model.add(Dense(300,activation='relu'))"
      ],
      "metadata": {
        "id": "zzoAlSU3kE7D"
      },
      "execution_count": 13,
      "outputs": []
    },
    {
      "cell_type": "code",
      "source": [
        "model.add(Dense(150,activation='relu'))"
      ],
      "metadata": {
        "id": "88GkfYL4kH3I"
      },
      "execution_count": 14,
      "outputs": []
    },
    {
      "cell_type": "markdown",
      "source": [
        "## OUTPUT LAYER"
      ],
      "metadata": {
        "id": "eJzwtIvAq0R0"
      }
    },
    {
      "cell_type": "code",
      "source": [
        "model.add(Dense(9,activation='softmax'))"
      ],
      "metadata": {
        "id": "uR6pFHiHkKJs"
      },
      "execution_count": 15,
      "outputs": []
    },
    {
      "cell_type": "code",
      "source": [
        "model.compile(loss='categorical_crossentropy',optimizer='adam',metrics=['accuracy'])"
      ],
      "metadata": {
        "id": "kJKgHrUJkRZQ"
      },
      "execution_count": 16,
      "outputs": []
    },
    {
      "cell_type": "code",
      "source": [
        "len(x_train)"
      ],
      "metadata": {
        "colab": {
          "base_uri": "https://localhost:8080/"
        },
        "id": "SXTo8F-6kUww",
        "outputId": "6b8c05c4-a505-402b-8879-64473ab75d81"
      },
      "execution_count": 17,
      "outputs": [
        {
          "output_type": "execute_result",
          "data": {
            "text/plain": [
              "475"
            ]
          },
          "metadata": {},
          "execution_count": 17
        }
      ]
    },
    {
      "cell_type": "code",
      "source": [
        "1238/24"
      ],
      "metadata": {
        "colab": {
          "base_uri": "https://localhost:8080/"
        },
        "id": "AWQVThCXkYd7",
        "outputId": "2e9c7633-0440-473e-c68c-858458f3750f"
      },
      "execution_count": 18,
      "outputs": [
        {
          "output_type": "execute_result",
          "data": {
            "text/plain": [
              "51.583333333333336"
            ]
          },
          "metadata": {},
          "execution_count": 18
        }
      ]
    },
    {
      "cell_type": "markdown",
      "source": [
        "## Fitting the Model"
      ],
      "metadata": {
        "id": "0sbAWEHSq5pt"
      }
    },
    {
      "cell_type": "code",
      "source": [
        "model.fit(x_train,steps_per_epoch=len(x_train),validation_data=x_test,validation_steps=len(x_test),epochs=10)"
      ],
      "metadata": {
        "colab": {
          "base_uri": "https://localhost:8080/"
        },
        "id": "s57PHxKEkeZc",
        "outputId": "b0d36680-f109-4d9f-dae4-c597a5afa860"
      },
      "execution_count": 21,
      "outputs": [
        {
          "output_type": "stream",
          "name": "stdout",
          "text": [
            "Epoch 1/10\n",
            "475/475 [==============================] - 363s 764ms/step - loss: 0.1242 - accuracy: 0.9575 - val_loss: 0.1193 - val_accuracy: 0.9542\n",
            "Epoch 2/10\n",
            "475/475 [==============================] - 358s 753ms/step - loss: 0.1344 - accuracy: 0.9525 - val_loss: 0.0698 - val_accuracy: 0.9781\n",
            "Epoch 3/10\n",
            "475/475 [==============================] - 352s 740ms/step - loss: 0.1263 - accuracy: 0.9598 - val_loss: 0.0694 - val_accuracy: 0.9758\n",
            "Epoch 4/10\n",
            "475/475 [==============================] - 352s 740ms/step - loss: 0.1149 - accuracy: 0.9614 - val_loss: 0.1659 - val_accuracy: 0.9458\n",
            "Epoch 5/10\n",
            "475/475 [==============================] - 352s 740ms/step - loss: 0.1210 - accuracy: 0.9592 - val_loss: 0.0914 - val_accuracy: 0.9706\n",
            "Epoch 6/10\n",
            "475/475 [==============================] - 354s 745ms/step - loss: 0.1085 - accuracy: 0.9631 - val_loss: 0.0548 - val_accuracy: 0.9843\n",
            "Epoch 7/10\n",
            "475/475 [==============================] - 354s 744ms/step - loss: 0.0999 - accuracy: 0.9664 - val_loss: 0.0750 - val_accuracy: 0.9709\n",
            "Epoch 8/10\n",
            "475/475 [==============================] - 358s 754ms/step - loss: 0.0935 - accuracy: 0.9674 - val_loss: 0.0609 - val_accuracy: 0.9796\n",
            "Epoch 9/10\n",
            "475/475 [==============================] - 355s 748ms/step - loss: 0.0982 - accuracy: 0.9659 - val_loss: 0.0657 - val_accuracy: 0.9781\n",
            "Epoch 10/10\n",
            "475/475 [==============================] - 368s 774ms/step - loss: 0.0923 - accuracy: 0.9705 - val_loss: 0.0978 - val_accuracy: 0.9700\n"
          ]
        },
        {
          "output_type": "execute_result",
          "data": {
            "text/plain": [
              "<keras.callbacks.History at 0x7f9454b64d90>"
            ]
          },
          "metadata": {},
          "execution_count": 21
        }
      ]
    },
    {
      "cell_type": "code",
      "source": [
        "model.save('vegetables.h5')"
      ],
      "metadata": {
        "id": "aiWN7oad7Gof"
      },
      "execution_count": 22,
      "outputs": []
    },
    {
      "cell_type": "code",
      "source": [
        "from tensorflow.keras.models import load_model"
      ],
      "metadata": {
        "id": "iODNC-3Q8ArR"
      },
      "execution_count": 23,
      "outputs": []
    },
    {
      "cell_type": "code",
      "source": [
        "from tensorflow.keras.preprocessing import image"
      ],
      "metadata": {
        "id": "sDqyO952-95f"
      },
      "execution_count": 24,
      "outputs": []
    },
    {
      "cell_type": "code",
      "source": [
        "model=load_model('vegetables.h5')"
      ],
      "metadata": {
        "id": "Ga1rMkVi--w5"
      },
      "execution_count": 25,
      "outputs": []
    },
    {
      "cell_type": "code",
      "source": [
        "img=image.load_img(r\"/content/drive/MyDrive/Fertilizers_Recommendation_ System_For_Disease_ Prediction/Dataset Plant Disease/Veg-dataset/Veg-dataset/test_set/Tomato___Septoria_leaf_spot/c2281160-6ffd-40df-8293-779634299ff3___JR_Sept.L.S 2630.JPG\",target_size=(128,128))"
      ],
      "metadata": {
        "id": "DFXiY8ug_E1a"
      },
      "execution_count": 26,
      "outputs": []
    },
    {
      "cell_type": "code",
      "source": [
        "img"
      ],
      "metadata": {
        "colab": {
          "base_uri": "https://localhost:8080/",
          "height": 145
        },
        "id": "PVIFAqHzCdSs",
        "outputId": "d586385c-f11e-4eb0-d355-007e09283fc3"
      },
      "execution_count": 27,
      "outputs": [
        {
          "output_type": "execute_result",
          "data": {
            "text/plain": [
              "<PIL.Image.Image image mode=RGB size=128x128 at 0x7F9454B58390>"
            ],
            "image/png": "[encoded data removed]"
          },
          "metadata": {},
          "execution_count": 27
        }
      ]
    },
    {
      "cell_type": "code",
      "source": [
        "x = image.img_to_array(img)"
      ],
      "metadata": {
        "id": "v3NVIQQ9Cg4d"
      },
      "execution_count": 28,
      "outputs": []
    },
    {
      "cell_type": "code",
      "source": [
        "x"
      ],
      "metadata": {
        "colab": {
          "base_uri": "https://localhost:8080/"
        },
        "id": "h-QEUVnJCjwa",
        "outputId": "5a4e6892-8dad-4c50-b0de-634b5ea471f5"
      },
      "execution_count": 29,
      "outputs": [
        {
          "output_type": "execute_result",
          "data": {
            "text/plain": [
              "array([[[157., 156., 188.],\n",
              "        [160., 159., 191.],\n",
              "        [161., 160., 192.],\n",
              "        ...,\n",
              "        [150., 146., 179.],\n",
              "        [155., 151., 184.],\n",
              "        [159., 155., 188.]],\n",
              "\n",
              "       [[157., 156., 188.],\n",
              "        [155., 154., 186.],\n",
              "        [157., 156., 188.],\n",
              "        ...,\n",
              "        [150., 146., 179.],\n",
              "        [149., 145., 178.],\n",
              "        [149., 145., 178.]],\n",
              "\n",
              "       [[159., 158., 190.],\n",
              "        [155., 154., 186.],\n",
              "        [157., 156., 188.],\n",
              "        ...,\n",
              "        [151., 147., 180.],\n",
              "        [152., 148., 181.],\n",
              "        [154., 150., 183.]],\n",
              "\n",
              "       ...,\n",
              "\n",
              "       [[100.,  94., 120.],\n",
              "        [134., 128., 154.],\n",
              "        [123., 117., 143.],\n",
              "        ...,\n",
              "        [ 13.,  16.,  33.],\n",
              "        [ 13.,  16.,  33.],\n",
              "        [ 14.,  17.,  34.]],\n",
              "\n",
              "       [[151., 145., 171.],\n",
              "        [121., 115., 141.],\n",
              "        [112., 106., 132.],\n",
              "        ...,\n",
              "        [ 13.,  16.,  33.],\n",
              "        [ 12.,  15.,  32.],\n",
              "        [ 12.,  15.,  32.]],\n",
              "\n",
              "       [[ 92.,  86., 112.],\n",
              "        [131., 125., 151.],\n",
              "        [130., 124., 150.],\n",
              "        ...,\n",
              "        [ 12.,  15.,  32.],\n",
              "        [ 11.,  14.,  31.],\n",
              "        [ 11.,  14.,  31.]]], dtype=float32)"
            ]
          },
          "metadata": {},
          "execution_count": 29
        }
      ]
    },
    {
      "cell_type": "code",
      "source": [
        "x = np.expand_dims(x,axis=0)\n"
      ],
      "metadata": {
        "id": "MDBOUOOyXlYl"
      },
      "execution_count": null,
      "outputs": []
    },
    {
      "cell_type": "code",
      "source": [
        "x"
      ],
      "metadata": {
        "colab": {
          "base_uri": "https://localhost:8080/"
        },
        "id": "Qo3MZlNvCqWT",
        "outputId": "0e532ffc-0c16-4c14-c120-1ed10eb22846"
      },
      "execution_count": 31,
      "outputs": [
        {
          "output_type": "execute_result",
          "data": {
            "text/plain": [
              "array([[[157., 156., 188.],\n",
              "        [160., 159., 191.],\n",
              "        [161., 160., 192.],\n",
              "        ...,\n",
              "        [150., 146., 179.],\n",
              "        [155., 151., 184.],\n",
              "        [159., 155., 188.]],\n",
              "\n",
              "       [[157., 156., 188.],\n",
              "        [155., 154., 186.],\n",
              "        [157., 156., 188.],\n",
              "        ...,\n",
              "        [150., 146., 179.],\n",
              "        [149., 145., 178.],\n",
              "        [149., 145., 178.]],\n",
              "\n",
              "       [[159., 158., 190.],\n",
              "        [155., 154., 186.],\n",
              "        [157., 156., 188.],\n",
              "        ...,\n",
              "        [151., 147., 180.],\n",
              "        [152., 148., 181.],\n",
              "        [154., 150., 183.]],\n",
              "\n",
              "       ...,\n",
              "\n",
              "       [[100.,  94., 120.],\n",
              "        [134., 128., 154.],\n",
              "        [123., 117., 143.],\n",
              "        ...,\n",
              "        [ 13.,  16.,  33.],\n",
              "        [ 13.,  16.,  33.],\n",
              "        [ 14.,  17.,  34.]],\n",
              "\n",
              "       [[151., 145., 171.],\n",
              "        [121., 115., 141.],\n",
              "        [112., 106., 132.],\n",
              "        ...,\n",
              "        [ 13.,  16.,  33.],\n",
              "        [ 12.,  15.,  32.],\n",
              "        [ 12.,  15.,  32.]],\n",
              "\n",
              "       [[ 92.,  86., 112.],\n",
              "        [131., 125., 151.],\n",
              "        [130., 124., 150.],\n",
              "        ...,\n",
              "        [ 12.,  15.,  32.],\n",
              "        [ 11.,  14.,  31.],\n",
              "        [ 11.,  14.,  31.]]], dtype=float32)"
            ]
          },
          "metadata": {},
          "execution_count": 31
        }
      ]
    },
    {
      "cell_type": "code",
      "source": [
        "y=np.argmax(model.predict(x),axis=1)"
      ],
      "metadata": {
        "id": "DuFhl1n1X1aQ"
      },
      "execution_count": null,
      "outputs": []
    },
    {
      "cell_type": "code",
      "source": [
        "index=['Pepper,_bell___Bacterial_spot','Pepper,_bell___healthy','Potato___Early_blight','Potato___Late_blight','Potato___healthy','Tomato___Bacterial_spot','Tomato___Late_blight','Tomato___Leaf_Mold','Tomato___Septoria_leaf_spot']"
      ],
      "metadata": {
        "id": "PgybP-_rC1nP"
      },
      "execution_count": 33,
      "outputs": []
    },
    {
      "cell_type": "code",
      "source": [
        "index[0]"
      ],
      "metadata": {
        "colab": {
          "base_uri": "https://localhost:8080/",
          "height": 37
        },
        "id": "v8J6KLwXDdm0",
        "outputId": "078c3d4b-f5af-4622-c871-855beb0c8003"
      },
      "execution_count": 34,
      "outputs": [
        {
          "output_type": "execute_result",
          "data": {
            "text/plain": [
              "'Pepper,_bell___Bacterial_spot'"
            ],
            "application/vnd.google.colaboratory.intrinsic+json": {
              "type": "string"
            }
          },
          "metadata": {},
          "execution_count": 34
        }
      ]
    },
    {
      "cell_type": "code",
      "source": [
        "img=image.load_img(r\"/content/drive/MyDrive/Fertilizers_Recommendation_ System_For_Disease_ Prediction/Dataset Plant Disease/Veg-dataset/Veg-dataset/test_set/Pepper,_bell___healthy/b06117a8-6ca6-4b82-96cf-07604beb8f1b___JR_HL 5906.JPG\",target_size=(128,128))"
      ],
      "metadata": {
        "id": "9Ze8naIODm7d"
      },
      "execution_count": 35,
      "outputs": []
    },
    {
      "cell_type": "code",
      "source": [
        "img"
      ],
      "metadata": {
        "colab": {
          "base_uri": "https://localhost:8080/",
          "height": 145
        },
        "id": "CnxUjMDDE4R1",
        "outputId": "bbea24a1-1b96-41d0-e04f-f78f61a9d172"
      },
      "execution_count": 36,
      "outputs": [
        {
          "output_type": "execute_result",
          "data": {
            "text/plain": [
              "<PIL.Image.Image image mode=RGB size=128x128 at 0x7F944F6848D0>"
            ],
            "image/png": "[encoded data removed]"
          },
          "metadata": {},
          "execution_count": 36
        }
      ]
    },
    {
      "cell_type": "code",
      "source": [
        "x = image.img_to_array(img)"
      ],
      "metadata": {
        "id": "CGmwMMT4YG-y"
      },
      "execution_count": 38,
      "outputs": []
    },
    {
      "cell_type": "code",
      "source": [
        "x"
      ],
      "metadata": {
        "colab": {
          "base_uri": "https://localhost:8080/"
        },
        "id": "UtzAV1fRYKR6",
        "outputId": "088188b8-2075-4b6e-837e-045faa03d3cf"
      },
      "execution_count": 39,
      "outputs": [
        {
          "output_type": "execute_result",
          "data": {
            "text/plain": [
              "array([[[199., 185., 184.],\n",
              "        [196., 182., 181.],\n",
              "        [191., 177., 176.],\n",
              "        ...,\n",
              "        [184., 168., 168.],\n",
              "        [196., 180., 180.],\n",
              "        [187., 171., 171.]],\n",
              "\n",
              "       [[173., 159., 158.],\n",
              "        [186., 172., 171.],\n",
              "        [180., 166., 165.],\n",
              "        ...,\n",
              "        [186., 170., 170.],\n",
              "        [191., 175., 175.],\n",
              "        [193., 177., 177.]],\n",
              "\n",
              "       [[189., 175., 174.],\n",
              "        [190., 176., 175.],\n",
              "        [194., 180., 179.],\n",
              "        ...,\n",
              "        [170., 154., 154.],\n",
              "        [185., 169., 169.],\n",
              "        [182., 166., 166.]],\n",
              "\n",
              "       ...,\n",
              "\n",
              "       [[214., 204., 203.],\n",
              "        [207., 197., 196.],\n",
              "        [194., 184., 183.],\n",
              "        ...,\n",
              "        [202., 187., 190.],\n",
              "        [198., 183., 186.],\n",
              "        [198., 183., 186.]],\n",
              "\n",
              "       [[192., 182., 181.],\n",
              "        [204., 194., 193.],\n",
              "        [206., 196., 195.],\n",
              "        ...,\n",
              "        [206., 191., 194.],\n",
              "        [200., 185., 188.],\n",
              "        [183., 168., 171.]],\n",
              "\n",
              "       [[201., 191., 190.],\n",
              "        [202., 192., 191.],\n",
              "        [216., 206., 205.],\n",
              "        ...,\n",
              "        [206., 191., 194.],\n",
              "        [193., 178., 181.],\n",
              "        [203., 188., 191.]]], dtype=float32)"
            ]
          },
          "metadata": {},
          "execution_count": 39
        }
      ]
    },
    {
      "cell_type": "code",
      "source": [
        "x = np.expand_dims(x,axis=0)"
      ],
      "metadata": {
        "id": "lY09XtOlZI-m"
      },
      "execution_count": null,
      "outputs": []
    },
    {
      "cell_type": "code",
      "source": [
        "x"
      ],
      "metadata": {
        "colab": {
          "base_uri": "https://localhost:8080/"
        },
        "id": "Kt-WHeNSYQZx",
        "outputId": "faf0b921-28d6-4e70-9d7d-e8cc01368137"
      },
      "execution_count": 40,
      "outputs": [
        {
          "output_type": "execute_result",
          "data": {
            "text/plain": [
              "array([[[199., 185., 184.],\n",
              "        [196., 182., 181.],\n",
              "        [191., 177., 176.],\n",
              "        ...,\n",
              "        [184., 168., 168.],\n",
              "        [196., 180., 180.],\n",
              "        [187., 171., 171.]],\n",
              "\n",
              "       [[173., 159., 158.],\n",
              "        [186., 172., 171.],\n",
              "        [180., 166., 165.],\n",
              "        ...,\n",
              "        [186., 170., 170.],\n",
              "        [191., 175., 175.],\n",
              "        [193., 177., 177.]],\n",
              "\n",
              "       [[189., 175., 174.],\n",
              "        [190., 176., 175.],\n",
              "        [194., 180., 179.],\n",
              "        ...,\n",
              "        [170., 154., 154.],\n",
              "        [185., 169., 169.],\n",
              "        [182., 166., 166.]],\n",
              "\n",
              "       ...,\n",
              "\n",
              "       [[214., 204., 203.],\n",
              "        [207., 197., 196.],\n",
              "        [194., 184., 183.],\n",
              "        ...,\n",
              "        [202., 187., 190.],\n",
              "        [198., 183., 186.],\n",
              "        [198., 183., 186.]],\n",
              "\n",
              "       [[192., 182., 181.],\n",
              "        [204., 194., 193.],\n",
              "        [206., 196., 195.],\n",
              "        ...,\n",
              "        [206., 191., 194.],\n",
              "        [200., 185., 188.],\n",
              "        [183., 168., 171.]],\n",
              "\n",
              "       [[201., 191., 190.],\n",
              "        [202., 192., 191.],\n",
              "        [216., 206., 205.],\n",
              "        ...,\n",
              "        [206., 191., 194.],\n",
              "        [193., 178., 181.],\n",
              "        [203., 188., 191.]]], dtype=float32)"
            ]
          },
          "metadata": {},
          "execution_count": 40
        }
      ]
    },
    {
      "cell_type": "code",
      "source": [
        "y=np.argmax(model.predict(x),axis=1)"
      ],
      "metadata": {
        "id": "j1-12RzQYZ1y"
      },
      "execution_count": null,
      "outputs": []
    },
    {
      "cell_type": "code",
      "source": [
        "index=['Pepper,_bell___Bacterial_spot','Pepper,_bell___healthy','Potato___Early_blight','Potato___Late_blight','Potato___healthy','Tomato___Bacterial_spot','Tomato___Late_blight','Tomato___Leaf_Mold','Tomato___Septoria_leaf_spot']"
      ],
      "metadata": {
        "id": "suyIkKeKYc4N"
      },
      "execution_count": 41,
      "outputs": []
    },
    {
      "cell_type": "code",
      "source": [
        "index[0]"
      ],
      "metadata": {
        "colab": {
          "base_uri": "https://localhost:8080/",
          "height": 37
        },
        "id": "Fftyvi3mYf2D",
        "outputId": "4e6b9f3d-e4d5-4e89-c330-91550f25621f"
      },
      "execution_count": 42,
      "outputs": [
        {
          "output_type": "execute_result",
          "data": {
            "text/plain": [
              "'Pepper,_bell___Bacterial_spot'"
            ],
            "application/vnd.google.colaboratory.intrinsic+json": {
              "type": "string"
            }
          },
          "metadata": {},
          "execution_count": 42
        }
      ]
    }
  ]
}