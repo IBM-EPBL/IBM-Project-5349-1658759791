{
  "nbformat": 4,
  "nbformat_minor": 0,
  "metadata": {
    "colab": {
      "provenance": []
    },
    "kernelspec": {
      "name": "python3",
      "display_name": "Python 3"
    },
    "language_info": {
      "name": "python"
    }
  },
  "cells": [
    {
      "cell_type": "code",
      "execution_count": null,
      "metadata": {
        "id": "49Uiw4NdflID"
      },
      "outputs": [],
      "source": [
        "Importing Libraries for Image Preprocessing"
      ]
    },
    {
      "cell_type": "code",
      "source": [
        "from keras.preprocessing.image import ImageDataGenerator"
      ],
      "metadata": {
        "id": "2hpKSweRg5QY"
      },
      "execution_count": 2,
      "outputs": []
    },
    {
      "cell_type": "code",
      "source": [
        "train_datagen=ImageDataGenerator(rescale=1./255,shear_range=0.2,zoom_range=0.2,horizontal_flip=True)"
      ],
      "metadata": {
        "id": "0E-QAsbzhBhI"
      },
      "execution_count": null,
      "outputs": []
    },
    {
      "cell_type": "code",
      "source": [
        "test_datagen=ImageDataGenerator(rescale=1)"
      ],
      "metadata": {
        "id": "Jy-E1rC9hHVQ"
      },
      "execution_count": null,
      "outputs": []
    },
    {
      "cell_type": "code",
      "source": [
        "x_train=train_datagen.flow_from_directory(r'C:\\\\Users\\\\abc\\\\Downloads\\\\Fertilizers_Recommendation_ System_For_Disease_ Prediction\\\\Dataset Plant Disease\\\\fruit-dataset\\\\fruit-dataset\\\\train',target_size=(128,128),batch_size=2,class_mode='categorical')"
      ],
      "metadata": {
        "id": "22NnVyUshJnh"
      },
      "execution_count": null,
      "outputs": []
    },
    {
      "cell_type": "code",
      "source": [
        "x_test=test_datagen.flow_from_directory(r'C:\\\\Users\\\\abc\\\\Downloads\\\\Fertilizers_Recommendation_ System_For_Disease_ Prediction\\\\Dataset Plant Disease\\\\fruit-dataset\\\\fruit-dataset\\\\test',target_size=(128,128),batch_size=2,class_mode='categorical')"
      ],
      "metadata": {
        "id": "l1l-3ASOhPnw"
      },
      "execution_count": null,
      "outputs": []
    },
    {
      "cell_type": "code",
      "source": [
        "x_train=train_datagen.flow_from_directory(r'C:\\\\Users\\\\abc\\\\Downloads\\\\Fertilizers_Recommendation_ System_For_Disease_ Prediction\\\\Dataset Plant Disease\\\\Veg-dataset\\\\Veg-dataset\\\\train_set',target_size=(128,128),batch_size=2,class_mode='categorical')"
      ],
      "metadata": {
        "id": "Mq0oyqXshS6_"
      },
      "execution_count": null,
      "outputs": []
    },
    {
      "cell_type": "code",
      "source": [
        ":\\\\Users\\\\vaishu\\\\Downloads\\\\Fertilizers_Recommendx_train=train_datagen.flow_from_directory(r'Cation_ System_For_Disease_ Prediction\\\\Dataset Plant Disease\\\\Veg-dataset\\\\Veg-dataset\\\\test_set',target_size=(128,128),batch_size=2,class_mode='categorical')"
      ],
      "metadata": {
        "id": "kHb98Gp9hfr4"
      },
      "execution_count": null,
      "outputs": []
    }
  ]
}