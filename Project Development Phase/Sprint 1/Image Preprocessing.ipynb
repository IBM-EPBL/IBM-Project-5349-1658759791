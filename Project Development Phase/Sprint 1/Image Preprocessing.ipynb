{
  "nbformat": 4,
  "nbformat_minor": 0,
  "metadata": {
    "colab": {
      "provenance": []
    },
    "kernelspec": {
      "name": "python3",
      "display_name": "Python 3"
    },
    "language_info": {
      "name": "python"
    }
  },
  "cells": [
    {
      "cell_type": "markdown",
      "source": [
        "## PROJECT TITLE: FERTILIZER RECOMMENDATION SYSTEM FOR DISEASE PREDICTION"
      ],
      "metadata": {
        "id": "uU-S7Dq9ejRg"
      }
    },
    {
      "cell_type": "markdown",
      "source": [
        "\n",
        "## SPRINT 1 - IMAGE PREPROCESSING"
      ],
      "metadata": {
        "id": "rd1qAcTtemAC"
      }
    },
    {
      "cell_type": "markdown",
      "source": [
        "# TEAM ID: PNT2022TMID00681"
      ],
      "metadata": {
        "id": "rPlN_dRierVr"
      }
    },
    {
      "cell_type": "markdown",
      "source": [
        "\n",
        "## SPRINT 1 - IMAGE PREPROCESSING"
      ],
      "metadata": {
        "id": "0xCX-GAme2LG"
      }
    },
    {
      "cell_type": "code",
      "source": [
        "from keras.preprocessing.image import ImageDataGenerator"
      ],
      "metadata": {
        "id": "t0AxlWskcXH-"
      },
      "execution_count": 3,
      "outputs": []
    },
    {
      "cell_type": "code",
      "source": [
        "train_datagen=ImageDataGenerator(rescale=1./255,shear_range=0.2,zoom_range=0.2,horizontal_flip=True)"
      ],
      "metadata": {
        "id": "evRJs3V7corh"
      },
      "execution_count": 5,
      "outputs": []
    },
    {
      "cell_type": "code",
      "source": [
        "test_datagen=ImageDataGenerator(rescale=1)"
      ],
      "metadata": {
        "id": "nmWuH_vtc3ic"
      },
      "execution_count": 6,
      "outputs": []
    },
    {
      "cell_type": "code",
      "source": [
        "x_train=train_datagen.flow_from_directory(r'/content/drive/MyDrive/Fertilizers_Recommendation_ System_For_Disease_ Prediction/Dataset Plant Disease/fruit-dataset/fruit-dataset/train',target_size=(128,128),batch_size=2,class_mode='categorical')"
      ],
      "metadata": {
        "colab": {
          "base_uri": "https://localhost:8080/"
        },
        "id": "0vHO8K03c78y",
        "outputId": "70f148d2-807a-4e11-dd56-e93a779457f1"
      },
      "execution_count": 12,
      "outputs": [
        {
          "output_type": "stream",
          "name": "stdout",
          "text": [
            "Found 5384 images belonging to 6 classes.\n"
          ]
        }
      ]
    },
    {
      "cell_type": "code",
      "source": [
        "x_test=test_datagen.flow_from_directory(r'/content/drive/MyDrive/Fertilizers_Recommendation_ System_For_Disease_ Prediction/Dataset Plant Disease/fruit-dataset/fruit-dataset/test',target_size=(128,128),batch_size=2,class_mode='categorical')"
      ],
      "metadata": {
        "colab": {
          "base_uri": "https://localhost:8080/"
        },
        "id": "4brt1o08dLXq",
        "outputId": "f6b3c783-ec28-4f8f-a228-766b24c60972"
      },
      "execution_count": 13,
      "outputs": [
        {
          "output_type": "stream",
          "name": "stdout",
          "text": [
            "Found 1686 images belonging to 6 classes.\n"
          ]
        }
      ]
    },
    {
      "cell_type": "code",
      "source": [
        "x_train=train_datagen.flow_from_directory(r'/content/drive/MyDrive/Fertilizers_Recommendation_ System_For_Disease_ Prediction/Dataset Plant Disease/Veg-dataset/Veg-dataset/train_set',target_size=(128,128),batch_size=2,class_mode='categorical')"
      ],
      "metadata": {
        "colab": {
          "base_uri": "https://localhost:8080/"
        },
        "id": "jYvmlxogdklz",
        "outputId": "ecebe309-fa58-4f02-9625-e587b203895d"
      },
      "execution_count": 14,
      "outputs": [
        {
          "output_type": "stream",
          "name": "stdout",
          "text": [
            "Found 11386 images belonging to 9 classes.\n"
          ]
        }
      ]
    },
    {
      "cell_type": "code",
      "source": [
        "x_train=train_datagen.flow_from_directory(r'/content/drive/MyDrive/Fertilizers_Recommendation_ System_For_Disease_ Prediction/Dataset Plant Disease/fruit-dataset/fruit-dataset/test',target_size=(128,128),batch_size=2,class_mode='categorical')"
      ],
      "metadata": {
        "colab": {
          "base_uri": "https://localhost:8080/"
        },
        "id": "vsfw5JPqeTlS",
        "outputId": "f1ed92c1-dda5-4933-ab1b-da47c45de069"
      },
      "execution_count": 15,
      "outputs": [
        {
          "output_type": "stream",
          "name": "stdout",
          "text": [
            "Found 1686 images belonging to 6 classes.\n"
          ]
        }
      ]
    }
  ]
}